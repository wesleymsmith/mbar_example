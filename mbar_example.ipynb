{
 "cells": [
  {
   "cell_type": "code",
   "execution_count": 3,
   "metadata": {},
   "outputs": [
    {
     "name": "stdout",
     "output_type": "stream",
     "text": [
      "WARNING: pip is being invoked by an old script wrapper. This will fail in a future version of pip.\n",
      "Please see https://github.com/pypa/pip/issues/5599 for advice on fixing the underlying issue.\n",
      "To avoid this problem you can invoke Python with '-m pip' instead of running pip directly.\n",
      "Collecting pymbar\n",
      "  Downloading pymbar-3.0.5-py3-none-any.whl (100 kB)\n",
      "\u001b[K     |████████████████████████████████| 100 kB 5.3 MB/s ta 0:00:011\n",
      "\u001b[?25hInstalling collected packages: pymbar\n",
      "Successfully installed pymbar-3.0.5\n",
      "\u001b[33mWARNING: You are using pip version 20.2.2; however, version 21.0.1 is available.\n",
      "You should consider upgrading via the '/cm/local/apps/python37/bin/python3 -m pip install --upgrade pip' command.\u001b[0m\n"
     ]
    }
   ],
   "source": [
    "!pip install --user pymbar"
   ]
  },
  {
   "cell_type": "code",
   "execution_count": 1,
   "metadata": {},
   "outputs": [
    {
     "name": "stdout",
     "output_type": "stream",
     "text": [
      "/data/wesley/mbar_example\n",
      "README.md  mbar_example.ipynb\n"
     ]
    }
   ],
   "source": [
    "%cd /data/wesley/mbar_example\n",
    "!ls"
   ]
  },
  {
   "cell_type": "code",
   "execution_count": 2,
   "metadata": {},
   "outputs": [
    {
     "data": {
      "text/html": [
       "\n",
       "    <div class=\"bk-root\">\n",
       "        <a href=\"https://bokeh.org\" target=\"_blank\" class=\"bk-logo bk-logo-small bk-logo-notebook\"></a>\n",
       "        <span id=\"1001\">Loading BokehJS ...</span>\n",
       "    </div>"
      ]
     },
     "metadata": {},
     "output_type": "display_data"
    },
    {
     "data": {
      "application/javascript": [
       "\n",
       "(function(root) {\n",
       "  function now() {\n",
       "    return new Date();\n",
       "  }\n",
       "\n",
       "  var force = true;\n",
       "\n",
       "  if (typeof root._bokeh_onload_callbacks === \"undefined\" || force === true) {\n",
       "    root._bokeh_onload_callbacks = [];\n",
       "    root._bokeh_is_loading = undefined;\n",
       "  }\n",
       "\n",
       "  var JS_MIME_TYPE = 'application/javascript';\n",
       "  var HTML_MIME_TYPE = 'text/html';\n",
       "  var EXEC_MIME_TYPE = 'application/vnd.bokehjs_exec.v0+json';\n",
       "  var CLASS_NAME = 'output_bokeh rendered_html';\n",
       "\n",
       "  /**\n",
       "   * Render data to the DOM node\n",
       "   */\n",
       "  function render(props, node) {\n",
       "    var script = document.createElement(\"script\");\n",
       "    node.appendChild(script);\n",
       "  }\n",
       "\n",
       "  /**\n",
       "   * Handle when an output is cleared or removed\n",
       "   */\n",
       "  function handleClearOutput(event, handle) {\n",
       "    var cell = handle.cell;\n",
       "\n",
       "    var id = cell.output_area._bokeh_element_id;\n",
       "    var server_id = cell.output_area._bokeh_server_id;\n",
       "    // Clean up Bokeh references\n",
       "    if (id != null && id in Bokeh.index) {\n",
       "      Bokeh.index[id].model.document.clear();\n",
       "      delete Bokeh.index[id];\n",
       "    }\n",
       "\n",
       "    if (server_id !== undefined) {\n",
       "      // Clean up Bokeh references\n",
       "      var cmd = \"from bokeh.io.state import curstate; print(curstate().uuid_to_server['\" + server_id + \"'].get_sessions()[0].document.roots[0]._id)\";\n",
       "      cell.notebook.kernel.execute(cmd, {\n",
       "        iopub: {\n",
       "          output: function(msg) {\n",
       "            var id = msg.content.text.trim();\n",
       "            if (id in Bokeh.index) {\n",
       "              Bokeh.index[id].model.document.clear();\n",
       "              delete Bokeh.index[id];\n",
       "            }\n",
       "          }\n",
       "        }\n",
       "      });\n",
       "      // Destroy server and session\n",
       "      var cmd = \"import bokeh.io.notebook as ion; ion.destroy_server('\" + server_id + \"')\";\n",
       "      cell.notebook.kernel.execute(cmd);\n",
       "    }\n",
       "  }\n",
       "\n",
       "  /**\n",
       "   * Handle when a new output is added\n",
       "   */\n",
       "  function handleAddOutput(event, handle) {\n",
       "    var output_area = handle.output_area;\n",
       "    var output = handle.output;\n",
       "\n",
       "    // limit handleAddOutput to display_data with EXEC_MIME_TYPE content only\n",
       "    if ((output.output_type != \"display_data\") || (!output.data.hasOwnProperty(EXEC_MIME_TYPE))) {\n",
       "      return\n",
       "    }\n",
       "\n",
       "    var toinsert = output_area.element.find(\".\" + CLASS_NAME.split(' ')[0]);\n",
       "\n",
       "    if (output.metadata[EXEC_MIME_TYPE][\"id\"] !== undefined) {\n",
       "      toinsert[toinsert.length - 1].firstChild.textContent = output.data[JS_MIME_TYPE];\n",
       "      // store reference to embed id on output_area\n",
       "      output_area._bokeh_element_id = output.metadata[EXEC_MIME_TYPE][\"id\"];\n",
       "    }\n",
       "    if (output.metadata[EXEC_MIME_TYPE][\"server_id\"] !== undefined) {\n",
       "      var bk_div = document.createElement(\"div\");\n",
       "      bk_div.innerHTML = output.data[HTML_MIME_TYPE];\n",
       "      var script_attrs = bk_div.children[0].attributes;\n",
       "      for (var i = 0; i < script_attrs.length; i++) {\n",
       "        toinsert[toinsert.length - 1].firstChild.setAttribute(script_attrs[i].name, script_attrs[i].value);\n",
       "        toinsert[toinsert.length - 1].firstChild.textContent = bk_div.children[0].textContent\n",
       "      }\n",
       "      // store reference to server id on output_area\n",
       "      output_area._bokeh_server_id = output.metadata[EXEC_MIME_TYPE][\"server_id\"];\n",
       "    }\n",
       "  }\n",
       "\n",
       "  function register_renderer(events, OutputArea) {\n",
       "\n",
       "    function append_mime(data, metadata, element) {\n",
       "      // create a DOM node to render to\n",
       "      var toinsert = this.create_output_subarea(\n",
       "        metadata,\n",
       "        CLASS_NAME,\n",
       "        EXEC_MIME_TYPE\n",
       "      );\n",
       "      this.keyboard_manager.register_events(toinsert);\n",
       "      // Render to node\n",
       "      var props = {data: data, metadata: metadata[EXEC_MIME_TYPE]};\n",
       "      render(props, toinsert[toinsert.length - 1]);\n",
       "      element.append(toinsert);\n",
       "      return toinsert\n",
       "    }\n",
       "\n",
       "    /* Handle when an output is cleared or removed */\n",
       "    events.on('clear_output.CodeCell', handleClearOutput);\n",
       "    events.on('delete.Cell', handleClearOutput);\n",
       "\n",
       "    /* Handle when a new output is added */\n",
       "    events.on('output_added.OutputArea', handleAddOutput);\n",
       "\n",
       "    /**\n",
       "     * Register the mime type and append_mime function with output_area\n",
       "     */\n",
       "    OutputArea.prototype.register_mime_type(EXEC_MIME_TYPE, append_mime, {\n",
       "      /* Is output safe? */\n",
       "      safe: true,\n",
       "      /* Index of renderer in `output_area.display_order` */\n",
       "      index: 0\n",
       "    });\n",
       "  }\n",
       "\n",
       "  // register the mime type if in Jupyter Notebook environment and previously unregistered\n",
       "  if (root.Jupyter !== undefined) {\n",
       "    var events = require('base/js/events');\n",
       "    var OutputArea = require('notebook/js/outputarea').OutputArea;\n",
       "\n",
       "    if (OutputArea.prototype.mime_types().indexOf(EXEC_MIME_TYPE) == -1) {\n",
       "      register_renderer(events, OutputArea);\n",
       "    }\n",
       "  }\n",
       "\n",
       "  \n",
       "  if (typeof (root._bokeh_timeout) === \"undefined\" || force === true) {\n",
       "    root._bokeh_timeout = Date.now() + 5000;\n",
       "    root._bokeh_failed_load = false;\n",
       "  }\n",
       "\n",
       "  var NB_LOAD_WARNING = {'data': {'text/html':\n",
       "     \"<div style='background-color: #fdd'>\\n\"+\n",
       "     \"<p>\\n\"+\n",
       "     \"BokehJS does not appear to have successfully loaded. If loading BokehJS from CDN, this \\n\"+\n",
       "     \"may be due to a slow or bad network connection. Possible fixes:\\n\"+\n",
       "     \"</p>\\n\"+\n",
       "     \"<ul>\\n\"+\n",
       "     \"<li>re-rerun `output_notebook()` to attempt to load from CDN again, or</li>\\n\"+\n",
       "     \"<li>use INLINE resources instead, as so:</li>\\n\"+\n",
       "     \"</ul>\\n\"+\n",
       "     \"<code>\\n\"+\n",
       "     \"from bokeh.resources import INLINE\\n\"+\n",
       "     \"output_notebook(resources=INLINE)\\n\"+\n",
       "     \"</code>\\n\"+\n",
       "     \"</div>\"}};\n",
       "\n",
       "  function display_loaded() {\n",
       "    var el = document.getElementById(\"1001\");\n",
       "    if (el != null) {\n",
       "      el.textContent = \"BokehJS is loading...\";\n",
       "    }\n",
       "    if (root.Bokeh !== undefined) {\n",
       "      if (el != null) {\n",
       "        el.textContent = \"BokehJS \" + root.Bokeh.version + \" successfully loaded.\";\n",
       "      }\n",
       "    } else if (Date.now() < root._bokeh_timeout) {\n",
       "      setTimeout(display_loaded, 100)\n",
       "    }\n",
       "  }\n",
       "\n",
       "\n",
       "  function run_callbacks() {\n",
       "    try {\n",
       "      root._bokeh_onload_callbacks.forEach(function(callback) {\n",
       "        if (callback != null)\n",
       "          callback();\n",
       "      });\n",
       "    } finally {\n",
       "      delete root._bokeh_onload_callbacks\n",
       "    }\n",
       "    console.debug(\"Bokeh: all callbacks have finished\");\n",
       "  }\n",
       "\n",
       "  function load_libs(css_urls, js_urls, callback) {\n",
       "    if (css_urls == null) css_urls = [];\n",
       "    if (js_urls == null) js_urls = [];\n",
       "\n",
       "    root._bokeh_onload_callbacks.push(callback);\n",
       "    if (root._bokeh_is_loading > 0) {\n",
       "      console.debug(\"Bokeh: BokehJS is being loaded, scheduling callback at\", now());\n",
       "      return null;\n",
       "    }\n",
       "    if (js_urls == null || js_urls.length === 0) {\n",
       "      run_callbacks();\n",
       "      return null;\n",
       "    }\n",
       "    console.debug(\"Bokeh: BokehJS not loaded, scheduling load and callback at\", now());\n",
       "    root._bokeh_is_loading = css_urls.length + js_urls.length;\n",
       "\n",
       "    function on_load() {\n",
       "      root._bokeh_is_loading--;\n",
       "      if (root._bokeh_is_loading === 0) {\n",
       "        console.debug(\"Bokeh: all BokehJS libraries/stylesheets loaded\");\n",
       "        run_callbacks()\n",
       "      }\n",
       "    }\n",
       "\n",
       "    function on_error() {\n",
       "      console.error(\"failed to load \" + url);\n",
       "    }\n",
       "\n",
       "    for (var i = 0; i < css_urls.length; i++) {\n",
       "      var url = css_urls[i];\n",
       "      const element = document.createElement(\"link\");\n",
       "      element.onload = on_load;\n",
       "      element.onerror = on_error;\n",
       "      element.rel = \"stylesheet\";\n",
       "      element.type = \"text/css\";\n",
       "      element.href = url;\n",
       "      console.debug(\"Bokeh: injecting link tag for BokehJS stylesheet: \", url);\n",
       "      document.body.appendChild(element);\n",
       "    }\n",
       "\n",
       "    const hashes = {\"https://cdn.bokeh.org/bokeh/release/bokeh-2.2.3.min.js\": \"T2yuo9Oe71Cz/I4X9Ac5+gpEa5a8PpJCDlqKYO0CfAuEszu1JrXLl8YugMqYe3sM\", \"https://cdn.bokeh.org/bokeh/release/bokeh-widgets-2.2.3.min.js\": \"98GDGJ0kOMCUMUePhksaQ/GYgB3+NH9h996V88sh3aOiUNX3N+fLXAtry6xctSZ6\", \"https://cdn.bokeh.org/bokeh/release/bokeh-tables-2.2.3.min.js\": \"89bArO+nlbP3sgakeHjCo1JYxYR5wufVgA3IbUvDY+K7w4zyxJqssu7wVnfeKCq8\"};\n",
       "\n",
       "    for (var i = 0; i < js_urls.length; i++) {\n",
       "      var url = js_urls[i];\n",
       "      var element = document.createElement('script');\n",
       "      element.onload = on_load;\n",
       "      element.onerror = on_error;\n",
       "      element.async = false;\n",
       "      element.src = url;\n",
       "      if (url in hashes) {\n",
       "        element.crossOrigin = \"anonymous\";\n",
       "        element.integrity = \"sha384-\" + hashes[url];\n",
       "      }\n",
       "      console.debug(\"Bokeh: injecting script tag for BokehJS library: \", url);\n",
       "      document.head.appendChild(element);\n",
       "    }\n",
       "  };\n",
       "\n",
       "  function inject_raw_css(css) {\n",
       "    const element = document.createElement(\"style\");\n",
       "    element.appendChild(document.createTextNode(css));\n",
       "    document.body.appendChild(element);\n",
       "  }\n",
       "\n",
       "  \n",
       "  var js_urls = [\"https://cdn.bokeh.org/bokeh/release/bokeh-2.2.3.min.js\", \"https://cdn.bokeh.org/bokeh/release/bokeh-widgets-2.2.3.min.js\", \"https://cdn.bokeh.org/bokeh/release/bokeh-tables-2.2.3.min.js\"];\n",
       "  var css_urls = [];\n",
       "  \n",
       "\n",
       "  var inline_js = [\n",
       "    function(Bokeh) {\n",
       "      Bokeh.set_log_level(\"info\");\n",
       "    },\n",
       "    function(Bokeh) {\n",
       "    \n",
       "    \n",
       "    }\n",
       "  ];\n",
       "\n",
       "  function run_inline_js() {\n",
       "    \n",
       "    if (root.Bokeh !== undefined || force === true) {\n",
       "      \n",
       "    for (var i = 0; i < inline_js.length; i++) {\n",
       "      inline_js[i].call(root, root.Bokeh);\n",
       "    }\n",
       "    if (force === true) {\n",
       "        display_loaded();\n",
       "      }} else if (Date.now() < root._bokeh_timeout) {\n",
       "      setTimeout(run_inline_js, 100);\n",
       "    } else if (!root._bokeh_failed_load) {\n",
       "      console.log(\"Bokeh: BokehJS failed to load within specified timeout.\");\n",
       "      root._bokeh_failed_load = true;\n",
       "    } else if (force !== true) {\n",
       "      var cell = $(document.getElementById(\"1001\")).parents('.cell').data().cell;\n",
       "      cell.output_area.append_execute_result(NB_LOAD_WARNING)\n",
       "    }\n",
       "\n",
       "  }\n",
       "\n",
       "  if (root._bokeh_is_loading === 0) {\n",
       "    console.debug(\"Bokeh: BokehJS loaded, going straight to plotting\");\n",
       "    run_inline_js();\n",
       "  } else {\n",
       "    load_libs(css_urls, js_urls, function() {\n",
       "      console.debug(\"Bokeh: BokehJS plotting callback run at\", now());\n",
       "      run_inline_js();\n",
       "    });\n",
       "  }\n",
       "}(window));"
      ],
      "application/vnd.bokehjs_load.v0+json": "\n(function(root) {\n  function now() {\n    return new Date();\n  }\n\n  var force = true;\n\n  if (typeof root._bokeh_onload_callbacks === \"undefined\" || force === true) {\n    root._bokeh_onload_callbacks = [];\n    root._bokeh_is_loading = undefined;\n  }\n\n  \n\n  \n  if (typeof (root._bokeh_timeout) === \"undefined\" || force === true) {\n    root._bokeh_timeout = Date.now() + 5000;\n    root._bokeh_failed_load = false;\n  }\n\n  var NB_LOAD_WARNING = {'data': {'text/html':\n     \"<div style='background-color: #fdd'>\\n\"+\n     \"<p>\\n\"+\n     \"BokehJS does not appear to have successfully loaded. If loading BokehJS from CDN, this \\n\"+\n     \"may be due to a slow or bad network connection. Possible fixes:\\n\"+\n     \"</p>\\n\"+\n     \"<ul>\\n\"+\n     \"<li>re-rerun `output_notebook()` to attempt to load from CDN again, or</li>\\n\"+\n     \"<li>use INLINE resources instead, as so:</li>\\n\"+\n     \"</ul>\\n\"+\n     \"<code>\\n\"+\n     \"from bokeh.resources import INLINE\\n\"+\n     \"output_notebook(resources=INLINE)\\n\"+\n     \"</code>\\n\"+\n     \"</div>\"}};\n\n  function display_loaded() {\n    var el = document.getElementById(\"1001\");\n    if (el != null) {\n      el.textContent = \"BokehJS is loading...\";\n    }\n    if (root.Bokeh !== undefined) {\n      if (el != null) {\n        el.textContent = \"BokehJS \" + root.Bokeh.version + \" successfully loaded.\";\n      }\n    } else if (Date.now() < root._bokeh_timeout) {\n      setTimeout(display_loaded, 100)\n    }\n  }\n\n\n  function run_callbacks() {\n    try {\n      root._bokeh_onload_callbacks.forEach(function(callback) {\n        if (callback != null)\n          callback();\n      });\n    } finally {\n      delete root._bokeh_onload_callbacks\n    }\n    console.debug(\"Bokeh: all callbacks have finished\");\n  }\n\n  function load_libs(css_urls, js_urls, callback) {\n    if (css_urls == null) css_urls = [];\n    if (js_urls == null) js_urls = [];\n\n    root._bokeh_onload_callbacks.push(callback);\n    if (root._bokeh_is_loading > 0) {\n      console.debug(\"Bokeh: BokehJS is being loaded, scheduling callback at\", now());\n      return null;\n    }\n    if (js_urls == null || js_urls.length === 0) {\n      run_callbacks();\n      return null;\n    }\n    console.debug(\"Bokeh: BokehJS not loaded, scheduling load and callback at\", now());\n    root._bokeh_is_loading = css_urls.length + js_urls.length;\n\n    function on_load() {\n      root._bokeh_is_loading--;\n      if (root._bokeh_is_loading === 0) {\n        console.debug(\"Bokeh: all BokehJS libraries/stylesheets loaded\");\n        run_callbacks()\n      }\n    }\n\n    function on_error() {\n      console.error(\"failed to load \" + url);\n    }\n\n    for (var i = 0; i < css_urls.length; i++) {\n      var url = css_urls[i];\n      const element = document.createElement(\"link\");\n      element.onload = on_load;\n      element.onerror = on_error;\n      element.rel = \"stylesheet\";\n      element.type = \"text/css\";\n      element.href = url;\n      console.debug(\"Bokeh: injecting link tag for BokehJS stylesheet: \", url);\n      document.body.appendChild(element);\n    }\n\n    const hashes = {\"https://cdn.bokeh.org/bokeh/release/bokeh-2.2.3.min.js\": \"T2yuo9Oe71Cz/I4X9Ac5+gpEa5a8PpJCDlqKYO0CfAuEszu1JrXLl8YugMqYe3sM\", \"https://cdn.bokeh.org/bokeh/release/bokeh-widgets-2.2.3.min.js\": \"98GDGJ0kOMCUMUePhksaQ/GYgB3+NH9h996V88sh3aOiUNX3N+fLXAtry6xctSZ6\", \"https://cdn.bokeh.org/bokeh/release/bokeh-tables-2.2.3.min.js\": \"89bArO+nlbP3sgakeHjCo1JYxYR5wufVgA3IbUvDY+K7w4zyxJqssu7wVnfeKCq8\"};\n\n    for (var i = 0; i < js_urls.length; i++) {\n      var url = js_urls[i];\n      var element = document.createElement('script');\n      element.onload = on_load;\n      element.onerror = on_error;\n      element.async = false;\n      element.src = url;\n      if (url in hashes) {\n        element.crossOrigin = \"anonymous\";\n        element.integrity = \"sha384-\" + hashes[url];\n      }\n      console.debug(\"Bokeh: injecting script tag for BokehJS library: \", url);\n      document.head.appendChild(element);\n    }\n  };\n\n  function inject_raw_css(css) {\n    const element = document.createElement(\"style\");\n    element.appendChild(document.createTextNode(css));\n    document.body.appendChild(element);\n  }\n\n  \n  var js_urls = [\"https://cdn.bokeh.org/bokeh/release/bokeh-2.2.3.min.js\", \"https://cdn.bokeh.org/bokeh/release/bokeh-widgets-2.2.3.min.js\", \"https://cdn.bokeh.org/bokeh/release/bokeh-tables-2.2.3.min.js\"];\n  var css_urls = [];\n  \n\n  var inline_js = [\n    function(Bokeh) {\n      Bokeh.set_log_level(\"info\");\n    },\n    function(Bokeh) {\n    \n    \n    }\n  ];\n\n  function run_inline_js() {\n    \n    if (root.Bokeh !== undefined || force === true) {\n      \n    for (var i = 0; i < inline_js.length; i++) {\n      inline_js[i].call(root, root.Bokeh);\n    }\n    if (force === true) {\n        display_loaded();\n      }} else if (Date.now() < root._bokeh_timeout) {\n      setTimeout(run_inline_js, 100);\n    } else if (!root._bokeh_failed_load) {\n      console.log(\"Bokeh: BokehJS failed to load within specified timeout.\");\n      root._bokeh_failed_load = true;\n    } else if (force !== true) {\n      var cell = $(document.getElementById(\"1001\")).parents('.cell').data().cell;\n      cell.output_area.append_execute_result(NB_LOAD_WARNING)\n    }\n\n  }\n\n  if (root._bokeh_is_loading === 0) {\n    console.debug(\"Bokeh: BokehJS loaded, going straight to plotting\");\n    run_inline_js();\n  } else {\n    load_libs(css_urls, js_urls, function() {\n      console.debug(\"Bokeh: BokehJS plotting callback run at\", now());\n      run_inline_js();\n    });\n  }\n}(window));"
     },
     "metadata": {},
     "output_type": "display_data"
    }
   ],
   "source": [
    "import numpy as np\n",
    "import pandas as pd\n",
    "import matplotlib\n",
    "from matplotlib import pyplot as plt\n",
    "import seaborn as sns\n",
    "\n",
    "import bokeh as bk\n",
    "import numpy as np\n",
    "from bokeh.plotting import figure, show\n",
    "from bokeh.io import output_notebook\n",
    "\n",
    "import ipywidgets as widgets\n",
    "from ipywidgets import interact,interact_manual\n",
    "\n",
    "import tqdm\n",
    "\n",
    "import pymbar as pmb\n",
    "output_notebook()"
   ]
  },
  {
   "cell_type": "code",
   "execution_count": 3,
   "metadata": {},
   "outputs": [],
   "source": [
    "class Simple_1D_BD_Sim:\n",
    "    def __init__(\n",
    "        self, \n",
    "        potential_gradient_function,\n",
    "        parameter_dict=None, \n",
    "        starting_coordinates=0, #technically 'coordinate' since this is 1D #1D function,takes a coordinate (x) and yields grad(U(x)). I.e. dU/dx\n",
    "    ):\n",
    "        self.kb=0.001985875 #kcal/(mol*K)\n",
    "        self.parameter_dict=dict(\n",
    "            diffusionConstant=1.0, #in Å**2/(fs) -> i.e. square distance per time unit\n",
    "            temperature=310.15, # Kelvins (default = normal body temperature),\n",
    "            vmax=1.5, #maximum allowed velocity (violation will terminate simulation due to instability)\n",
    "            trajectorySnapshotRate=100, #number of steps between saving to trajectory data\n",
    "            periodicBoundaryLength=None,\n",
    "            timestep=1.0, #time step in fs\n",
    "            verbose=False,\n",
    "        )\n",
    "        if not (parameter_dict is None):\n",
    "            self.set_parameters(parameter_dict)\n",
    "        if not (starting_coordinates is None):\n",
    "            self.x0=starting_coordinates\n",
    "        else:\n",
    "            self.x0=0\n",
    "            \n",
    "        self.set_potential_gradient_function(potential_gradient_function)\n",
    "        \n",
    "        \n",
    "    def set_parameters(self,parameter_dict):\n",
    "        for parameterName in parameter_dict:\n",
    "            if parameterName in self.parameter_dict: #make sure we dont add unsupported parameters\n",
    "                self.parameter_dict[parameterName]=parameter_dict[parameterName]\n",
    "            elif self.parameter_dict['verbose']:\n",
    "                print('Warning: parameter \"%s\" not supported'%(str(parameterName)))\n",
    "    \n",
    "    def set_potential_gradient_function(self,potential_gradient_function):\n",
    "        self.potential_gradient_function=potential_gradient_function\n",
    "   \n",
    "    def set_x0(self,x0):\n",
    "        self.x0=x0\n",
    "        \n",
    "    def run_sim(\n",
    "        self,\n",
    "        nsteps=10000,\n",
    "        giveVelocities=False,\n",
    "        randomSeed=None,\n",
    "        pbar=None,\n",
    "    ):\n",
    "        \n",
    "        x=self.x0\n",
    "        bPBL=self.parameter_dict['periodicBoundaryLength']\n",
    "        if not (bPBL is None):\n",
    "            x=x%bPBL\n",
    "        bD=self.parameter_dict['diffusionConstant']\n",
    "        kb=self.kb\n",
    "        bT=self.parameter_dict['temperature']\n",
    "        trajInterval=self.parameter_dict['trajectorySnapshotRate']\n",
    "        verbose=self.parameter_dict['verbose']\n",
    "        bVmax=self.parameter_dict['vmax']\n",
    "        ts=self.parameter_dict['timestep']\n",
    "        gradUfun=self.potential_gradient_function\n",
    "        print(nsteps)\n",
    "        if not (randomSeed is None): #in case we want to specify a specific random seed for reproducibility\n",
    "            np.random.seed(randomSeed)\n",
    "        trajectoryData=np.zeros(int(nsteps/trajInterval))\n",
    "        if giveVelocities:\n",
    "            velocityData=np.zeros(nsteps)\n",
    "        \n",
    "        tStep=0    \n",
    "        stable=True\n",
    "        # X'(t)=-D/(kbT)*grad(U(X))+√(2D)*R(t)\n",
    "        #R -> stationary gaussian process\n",
    "        while (tStep<nsteps) and stable:\n",
    "            v=( -bD/(kb*bT)*gradUfun(x)+np.sqrt(2*bD)*np.random.normal(scale=1/np.sqrt(ts)) )*ts\n",
    "            if (tStep%trajInterval) == 0:\n",
    "                trajectoryData[int(tStep/trajInterval)]=x\n",
    "                if giveVelocities:\n",
    "                    velocityData[int(tStep/trajInterval)]=v\n",
    "            if np.abs(v)>bVmax:\n",
    "                stable=False\n",
    "                if verbose:\n",
    "                    print(\n",
    "                        (\"ERROR (step %g): velocity (%.3e) exceeds maximum (%.3e),\"+\\\n",
    "                        \"simulation terminated due to instability\")%(\n",
    "                            tStep,v,bVmax\n",
    "                        )\n",
    "                    )\n",
    "            if not pbar is None:\n",
    "                pbar.update()\n",
    "            x=x+v\n",
    "            if not (bPBL is None):\n",
    "                x=x%bPBL\n",
    "            tStep=tStep+1\n",
    "        outDict=dict(\n",
    "            trajectory=trajectoryData[:(int(tStep/trajInterval)+1)]\n",
    "        )\n",
    "        if giveVelocities:\n",
    "            outDict['velocities']=velocityData[:(int(tStep/trajInterval)+1)]\n",
    "        return(outDict)"
   ]
  },
  {
   "cell_type": "code",
   "execution_count": 4,
   "metadata": {},
   "outputs": [
    {
     "data": {
      "text/plain": [
       "'kbT/2=3.080E-01'"
      ]
     },
     "metadata": {},
     "output_type": "display_data"
    },
    {
     "name": "stderr",
     "output_type": "stream",
     "text": [
      "/home/wesley/.local/lib/python3.7/site-packages/ipykernel_launcher.py:46: TqdmDeprecationWarning: This function will be removed in tqdm==5.0.0\n",
      "Please use `tqdm.notebook.tqdm` instead of `tqdm.tqdm_notebook`\n"
     ]
    },
    {
     "data": {
      "application/vnd.jupyter.widget-view+json": {
       "model_id": "d4377a1b4ab24557993bc1345beb5110",
       "version_major": 2,
       "version_minor": 0
      },
      "text/plain": [
       "HBox(children=(HTML(value=''), FloatProgress(value=0.0, max=1000000.0), HTML(value='')))"
      ]
     },
     "metadata": {},
     "output_type": "display_data"
    },
    {
     "name": "stdout",
     "output_type": "stream",
     "text": [
      "1000000\n",
      "<v**2>/2=0.24822893 at D=0.250 fs; <|v|>=0.56283685 at timestep=1.000; total steps = 1e+06 (1.0000 ns)\n",
      "\n"
     ]
    },
    {
     "data": {
      "image/png": "[encoded data removed]",
      "text/plain": [
       "<Figure size 432x288 with 1 Axes>"
      ]
     },
     "metadata": {
      "needs_background": "light"
     },
     "output_type": "display_data"
    }
   ],
   "source": [
    "def potFunTest(x):\n",
    "    return (1./80000.)*x**4+(.4-(.45/100)*x**2)\n",
    "def potGradFunTest(x):\n",
    "    return 4*(1./80000)*x**3-2*(.45/100)*x\n",
    "    \n",
    "diffCoef=.25\n",
    "sim_dt=1.0\n",
    "bd_TestSim=Simple_1D_BD_Sim(potGradFunTest)\n",
    "bd_TestSim.set_parameters(dict(\n",
    "    diffusionConstant=diffCoef,\n",
    "    vmax=15.0,\n",
    "    trajectorySnapshotRate=int(100/sim_dt),\n",
    "    verbose=True,\n",
    "    timestep=sim_dt\n",
    "))\n",
    "bd_TestSim.set_x0(0.)\n",
    "\n",
    "display(\n",
    "    'kbT/2=%.3E'%(\n",
    "        bd_TestSim.parameter_dict['temperature']*bd_TestSim.kb/2.\n",
    "    )\n",
    ")\n",
    "\n",
    "\n",
    "binEdges=np.linspace(-20,20,26)\n",
    "binCenters=(binEdges[:-1]+binEdges[1:])/2.\n",
    "xgrid=binCenters#np.linspace(-30,30,101)\n",
    "sns.lineplot(\n",
    "    x=xgrid,\n",
    "    y=potFunTest(xgrid),\n",
    "    label='U(X) (kcal/mol)'\n",
    ")\n",
    "sns.lineplot(\n",
    "    x=xgrid,\n",
    "    y=potGradFunTest(xgrid),\n",
    "    label='grad(U(X)) (kcal/(mol*Å))'\n",
    ")\n",
    "plt.ylim(-.5,1.)\n",
    "plt.xlabel('X (Å)')\n",
    "\n",
    "bd_TestSim.set_x0(0.)\n",
    "nsteps=int(1000000/sim_dt) #100000000\n",
    "trajTestData=bd_TestSim.run_sim(\n",
    "    nsteps=nsteps,\n",
    "    giveVelocities=True,\n",
    "    pbar=tqdm.tqdm_notebook(total=nsteps))\n",
    "\n",
    "kb=bd_TestSim.kb\n",
    "kbT=bd_TestSim.kb*bd_TestSim.parameter_dict['temperature']\n",
    "dt=bd_TestSim.parameter_dict['timestep']\n",
    "print(\n",
    "    '<v**2>/2={hvsq:.8f} at D={D:.3f} fs'.format(\n",
    "        D=bd_TestSim.parameter_dict['diffusionConstant'],\n",
    "        hvsq=np.mean((trajTestData['velocities']/dt)**2/2.))+ \\\n",
    "    '; <|v|>={v:.8f} at timestep={ts:.3f}'.format(\n",
    "        ts=bd_TestSim.parameter_dict['timestep'],\n",
    "        v=np.mean(np.abs(trajTestData['velocities'])/dt))+ \\\n",
    "    '; total steps = {nts:g} ({simtime:.4f} ns)'.format(\n",
    "        nts=nsteps, simtime=nsteps*bd_TestSim.parameter_dict['timestep']*1E-6\n",
    "    )\n",
    ")\n",
    "xgrid=binCenters\n",
    "test_pmf_hist=np.histogram(\n",
    "    a=trajTestData['trajectory'],\n",
    "    bins=binEdges\n",
    ")\n",
    "test_pmf_vec=test_pmf_hist[0]\n",
    "test_pmf_vec=test_pmf_vec/np.sum(test_pmf_vec)\n",
    "test_pmf_vec=-kbT*np.log(test_pmf_vec/np.max(test_pmf_vec))\n",
    "sns.lineplot(\n",
    "    x=xgrid,\n",
    "    y=test_pmf_vec,\n",
    "    label='Raw X_Ind count PMF'\n",
    ")\n",
    "plt.ylim(-.5,1.)\n",
    "plt.show()\n",
    "\n",
    "plt.show()\n"
   ]
  },
  {
   "cell_type": "code",
   "execution_count": 5,
   "metadata": {},
   "outputs": [],
   "source": [
    "def gen_harmonic_window_potFun(potFun,win_center,kval):\n",
    "    return(\n",
    "        lambda x: potFun(x)+.5*kval*(x-win_center)**2\n",
    "    )\n",
    "def gen_harmonic_window_potGradFun(potGradFun,window_center,kval):\n",
    "    return(\n",
    "        lambda x: potGradFun(x)-kval*(window_center-x)\n",
    "    )"
   ]
  },
  {
   "cell_type": "code",
   "execution_count": 8,
   "metadata": {},
   "outputs": [
    {
     "data": {
      "image/png": "[encoded data removed]",
      "text/plain": [
       "<Figure size 432x288 with 1 Axes>"
      ]
     },
     "metadata": {
      "needs_background": "light"
     },
     "output_type": "display_data"
    }
   ],
   "source": [
    "windowCenters=np.linspace(-15,15,11)\n",
    "windowKvals=np.array([2**-6]*len(windowCenters))\n",
    "window_potFuns=[\n",
    "    gen_harmonic_window_potFun(potFunTest,wc,wk) \\\n",
    "    for wc,wk in zip(windowCenters,windowKvals)\n",
    "]\n",
    "window_potGradFuns=[\n",
    "    gen_harmonic_window_potGradFun(potGradFunTest,wc,wk) \\\n",
    "    for wc,wk in zip(windowCenters,windowKvals)\n",
    "]\n",
    "\n",
    "binEdges=np.linspace(-20,20,201)\n",
    "binCenters=(binEdges[:-1]+binEdges[1:])/2.\n",
    "xgrid=binCenters#np.linspace(-30,30,101)\n",
    "sns.lineplot(\n",
    "    x=xgrid,\n",
    "    y=potFunTest(xgrid),\n",
    "    label='U(X) (kcal/mol)'\n",
    ")\n",
    "sns.lineplot(\n",
    "    x=xgrid,\n",
    "    y=potGradFunTest(xgrid),\n",
    "    label='grad(U(X)) (kcal/(mol*Å))'\n",
    ")\n",
    "plt.ylim(-.5,1.)\n",
    "plt.xlabel('X (Å)')\n",
    "\n",
    "for iWin,windowCenter in enumerate(windowCenters):\n",
    "    sns.lineplot(\n",
    "        x=xgrid,\n",
    "        y=window_potFuns[iWin](xgrid),\n",
    "        #label='U(X) (kcal/mol)',\n",
    "        color='green'\n",
    "    )\n",
    "    sns.lineplot(\n",
    "        x=xgrid,\n",
    "        y=window_potGradFuns[iWin](xgrid),\n",
    "        #label='grad(U(X)) (kcal/(mol*Å))',\n",
    "        color='cyan'\n",
    "    )"
   ]
  },
  {
   "cell_type": "code",
   "execution_count": 9,
   "metadata": {},
   "outputs": [
    {
     "name": "stderr",
     "output_type": "stream",
     "text": [
      "/home/wesley/.local/lib/python3.7/site-packages/ipykernel_launcher.py:27: TqdmDeprecationWarning: This function will be removed in tqdm==5.0.0\n",
      "Please use `tqdm.notebook.tqdm` instead of `tqdm.tqdm_notebook`\n"
     ]
    },
    {
     "data": {
      "application/vnd.jupyter.widget-view+json": {
       "model_id": "33cdbf5170fb4b7aa94a2bf26dbb9206",
       "version_major": 2,
       "version_minor": 0
      },
      "text/plain": [
       "HBox(children=(HTML(value=''), FloatProgress(value=0.0, max=500000.0), HTML(value='')))"
      ]
     },
     "metadata": {},
     "output_type": "display_data"
    },
    {
     "name": "stdout",
     "output_type": "stream",
     "text": [
      "500000\n",
      "<v**2>/2=0.25364624 at D=0.250 fs; <|v|>=0.56897758 at timestep=1.000; total steps = 500000 (0.5000 ns)\n",
      "\n"
     ]
    },
    {
     "name": "stderr",
     "output_type": "stream",
     "text": [
      "/home/wesley/.local/lib/python3.7/site-packages/ipykernel_launcher.py:50: RuntimeWarning: divide by zero encountered in log\n",
      "/home/wesley/.local/lib/python3.7/site-packages/ipykernel_launcher.py:27: TqdmDeprecationWarning: This function will be removed in tqdm==5.0.0\n",
      "Please use `tqdm.notebook.tqdm` instead of `tqdm.tqdm_notebook`\n"
     ]
    },
    {
     "data": {
      "application/vnd.jupyter.widget-view+json": {
       "model_id": "9a9c80e603e446d48cac552c656a3239",
       "version_major": 2,
       "version_minor": 0
      },
      "text/plain": [
       "HBox(children=(HTML(value=''), FloatProgress(value=0.0, max=500000.0), HTML(value='')))"
      ]
     },
     "metadata": {},
     "output_type": "display_data"
    },
    {
     "name": "stdout",
     "output_type": "stream",
     "text": [
      "500000\n",
      "<v**2>/2=0.26153595 at D=0.250 fs; <|v|>=0.57958134 at timestep=1.000; total steps = 500000 (0.5000 ns)\n",
      "\n"
     ]
    },
    {
     "name": "stderr",
     "output_type": "stream",
     "text": [
      "/home/wesley/.local/lib/python3.7/site-packages/ipykernel_launcher.py:50: RuntimeWarning: divide by zero encountered in log\n",
      "/home/wesley/.local/lib/python3.7/site-packages/ipykernel_launcher.py:27: TqdmDeprecationWarning: This function will be removed in tqdm==5.0.0\n",
      "Please use `tqdm.notebook.tqdm` instead of `tqdm.tqdm_notebook`\n"
     ]
    },
    {
     "data": {
      "application/vnd.jupyter.widget-view+json": {
       "model_id": "30f615cbec2e4bf68e59b70096f70af5",
       "version_major": 2,
       "version_minor": 0
      },
      "text/plain": [
       "HBox(children=(HTML(value=''), FloatProgress(value=0.0, max=500000.0), HTML(value='')))"
      ]
     },
     "metadata": {},
     "output_type": "display_data"
    },
    {
     "name": "stdout",
     "output_type": "stream",
     "text": [
      "500000\n",
      "<v**2>/2=0.25693318 at D=0.250 fs; <|v|>=0.56875055 at timestep=1.000; total steps = 500000 (0.5000 ns)\n"
     ]
    },
    {
     "name": "stderr",
     "output_type": "stream",
     "text": [
      "/home/wesley/.local/lib/python3.7/site-packages/ipykernel_launcher.py:50: RuntimeWarning: divide by zero encountered in log\n",
      "/home/wesley/.local/lib/python3.7/site-packages/ipykernel_launcher.py:27: TqdmDeprecationWarning: This function will be removed in tqdm==5.0.0\n",
      "Please use `tqdm.notebook.tqdm` instead of `tqdm.tqdm_notebook`\n"
     ]
    },
    {
     "data": {
      "application/vnd.jupyter.widget-view+json": {
       "model_id": "62895c1051134fb5895a9819343d15ec",
       "version_major": 2,
       "version_minor": 0
      },
      "text/plain": [
       "HBox(children=(HTML(value=''), FloatProgress(value=0.0, max=500000.0), HTML(value='')))"
      ]
     },
     "metadata": {},
     "output_type": "display_data"
    },
    {
     "name": "stdout",
     "output_type": "stream",
     "text": [
      "500000\n",
      "<v**2>/2=0.24727816 at D=0.250 fs; <|v|>=0.56034540 at timestep=1.000; total steps = 500000 (0.5000 ns)\n",
      "\n"
     ]
    },
    {
     "name": "stderr",
     "output_type": "stream",
     "text": [
      "/home/wesley/.local/lib/python3.7/site-packages/ipykernel_launcher.py:50: RuntimeWarning: divide by zero encountered in log\n",
      "/home/wesley/.local/lib/python3.7/site-packages/ipykernel_launcher.py:27: TqdmDeprecationWarning: This function will be removed in tqdm==5.0.0\n",
      "Please use `tqdm.notebook.tqdm` instead of `tqdm.tqdm_notebook`\n"
     ]
    },
    {
     "data": {
      "application/vnd.jupyter.widget-view+json": {
       "model_id": "80e8e9878c6b40d68bb5e1e4e1761e7d",
       "version_major": 2,
       "version_minor": 0
      },
      "text/plain": [
       "HBox(children=(HTML(value=''), FloatProgress(value=0.0, max=500000.0), HTML(value='')))"
      ]
     },
     "metadata": {},
     "output_type": "display_data"
    },
    {
     "name": "stdout",
     "output_type": "stream",
     "text": [
      "500000\n",
      "<v**2>/2=0.25715551 at D=0.250 fs; <|v|>=0.56959927 at timestep=1.000; total steps = 500000 (0.5000 ns)\n",
      "\n"
     ]
    },
    {
     "name": "stderr",
     "output_type": "stream",
     "text": [
      "/home/wesley/.local/lib/python3.7/site-packages/ipykernel_launcher.py:27: TqdmDeprecationWarning: This function will be removed in tqdm==5.0.0\n",
      "Please use `tqdm.notebook.tqdm` instead of `tqdm.tqdm_notebook`\n"
     ]
    },
    {
     "data": {
      "application/vnd.jupyter.widget-view+json": {
       "model_id": "0613bd1403ee4be1a7bfe101a00df623",
       "version_major": 2,
       "version_minor": 0
      },
      "text/plain": [
       "HBox(children=(HTML(value=''), FloatProgress(value=0.0, max=500000.0), HTML(value='')))"
      ]
     },
     "metadata": {},
     "output_type": "display_data"
    },
    {
     "name": "stdout",
     "output_type": "stream",
     "text": [
      "500000\n",
      "<v**2>/2=0.24886203 at D=0.250 fs; <|v|>=0.56443537 at timestep=1.000; total steps = 500000 (0.5000 ns)\n"
     ]
    },
    {
     "name": "stderr",
     "output_type": "stream",
     "text": [
      "/home/wesley/.local/lib/python3.7/site-packages/ipykernel_launcher.py:27: TqdmDeprecationWarning: This function will be removed in tqdm==5.0.0\n",
      "Please use `tqdm.notebook.tqdm` instead of `tqdm.tqdm_notebook`\n"
     ]
    },
    {
     "data": {
      "application/vnd.jupyter.widget-view+json": {
       "model_id": "855108ee73944d2c96b69fea02207350",
       "version_major": 2,
       "version_minor": 0
      },
      "text/plain": [
       "HBox(children=(HTML(value=''), FloatProgress(value=0.0, max=500000.0), HTML(value='')))"
      ]
     },
     "metadata": {},
     "output_type": "display_data"
    },
    {
     "name": "stdout",
     "output_type": "stream",
     "text": [
      "500000\n",
      "<v**2>/2=0.24847023 at D=0.250 fs; <|v|>=0.56118564 at timestep=1.000; total steps = 500000 (0.5000 ns)\n",
      "\n"
     ]
    },
    {
     "name": "stderr",
     "output_type": "stream",
     "text": [
      "/home/wesley/.local/lib/python3.7/site-packages/ipykernel_launcher.py:50: RuntimeWarning: divide by zero encountered in log\n",
      "/home/wesley/.local/lib/python3.7/site-packages/ipykernel_launcher.py:27: TqdmDeprecationWarning: This function will be removed in tqdm==5.0.0\n",
      "Please use `tqdm.notebook.tqdm` instead of `tqdm.tqdm_notebook`\n"
     ]
    },
    {
     "data": {
      "application/vnd.jupyter.widget-view+json": {
       "model_id": "fc0ed63412814a1898c0937f33304feb",
       "version_major": 2,
       "version_minor": 0
      },
      "text/plain": [
       "HBox(children=(HTML(value=''), FloatProgress(value=0.0, max=500000.0), HTML(value='')))"
      ]
     },
     "metadata": {},
     "output_type": "display_data"
    },
    {
     "name": "stdout",
     "output_type": "stream",
     "text": [
      "500000\n",
      "<v**2>/2=0.24753370 at D=0.250 fs; <|v|>=0.55973079 at timestep=1.000; total steps = 500000 (0.5000 ns)\n"
     ]
    },
    {
     "name": "stderr",
     "output_type": "stream",
     "text": [
      "/home/wesley/.local/lib/python3.7/site-packages/ipykernel_launcher.py:50: RuntimeWarning: divide by zero encountered in log\n",
      "/home/wesley/.local/lib/python3.7/site-packages/ipykernel_launcher.py:27: TqdmDeprecationWarning: This function will be removed in tqdm==5.0.0\n",
      "Please use `tqdm.notebook.tqdm` instead of `tqdm.tqdm_notebook`\n"
     ]
    },
    {
     "data": {
      "application/vnd.jupyter.widget-view+json": {
       "model_id": "5d87ecee29b74f8bbab834ae022288aa",
       "version_major": 2,
       "version_minor": 0
      },
      "text/plain": [
       "HBox(children=(HTML(value=''), FloatProgress(value=0.0, max=500000.0), HTML(value='')))"
      ]
     },
     "metadata": {},
     "output_type": "display_data"
    },
    {
     "name": "stdout",
     "output_type": "stream",
     "text": [
      "500000\n",
      "<v**2>/2=0.25384502 at D=0.250 fs; <|v|>=0.56727951 at timestep=1.000; total steps = 500000 (0.5000 ns)\n",
      "\n",
      "\n"
     ]
    },
    {
     "name": "stderr",
     "output_type": "stream",
     "text": [
      "/home/wesley/.local/lib/python3.7/site-packages/ipykernel_launcher.py:50: RuntimeWarning: divide by zero encountered in log\n",
      "/home/wesley/.local/lib/python3.7/site-packages/ipykernel_launcher.py:27: TqdmDeprecationWarning: This function will be removed in tqdm==5.0.0\n",
      "Please use `tqdm.notebook.tqdm` instead of `tqdm.tqdm_notebook`\n"
     ]
    },
    {
     "data": {
      "application/vnd.jupyter.widget-view+json": {
       "model_id": "868f8f158ed0402cb78197fc2e84c277",
       "version_major": 2,
       "version_minor": 0
      },
      "text/plain": [
       "HBox(children=(HTML(value=''), FloatProgress(value=0.0, max=500000.0), HTML(value='')))"
      ]
     },
     "metadata": {},
     "output_type": "display_data"
    },
    {
     "name": "stdout",
     "output_type": "stream",
     "text": [
      "500000\n",
      "<v**2>/2=0.24760920 at D=0.250 fs; <|v|>=0.56327783 at timestep=1.000; total steps = 500000 (0.5000 ns)\n",
      "\n",
      "\n",
      "\n"
     ]
    },
    {
     "name": "stderr",
     "output_type": "stream",
     "text": [
      "/home/wesley/.local/lib/python3.7/site-packages/ipykernel_launcher.py:50: RuntimeWarning: divide by zero encountered in log\n",
      "/home/wesley/.local/lib/python3.7/site-packages/ipykernel_launcher.py:27: TqdmDeprecationWarning: This function will be removed in tqdm==5.0.0\n",
      "Please use `tqdm.notebook.tqdm` instead of `tqdm.tqdm_notebook`\n"
     ]
    },
    {
     "data": {
      "application/vnd.jupyter.widget-view+json": {
       "model_id": "bd08b0dea9a64eddab51cc50c937ccc6",
       "version_major": 2,
       "version_minor": 0
      },
      "text/plain": [
       "HBox(children=(HTML(value=''), FloatProgress(value=0.0, max=500000.0), HTML(value='')))"
      ]
     },
     "metadata": {},
     "output_type": "display_data"
    },
    {
     "name": "stdout",
     "output_type": "stream",
     "text": [
      "500000\n",
      "<v**2>/2=0.25465198 at D=0.250 fs; <|v|>=0.57055439 at timestep=1.000; total steps = 500000 (0.5000 ns)\n"
     ]
    },
    {
     "name": "stderr",
     "output_type": "stream",
     "text": [
      "/home/wesley/.local/lib/python3.7/site-packages/ipykernel_launcher.py:50: RuntimeWarning: divide by zero encountered in log\n"
     ]
    },
    {
     "data": {
      "image/png": "[encoded data removed]",
      "text/plain": [
       "<Figure size 432x288 with 1 Axes>"
      ]
     },
     "metadata": {
      "needs_background": "light"
     },
     "output_type": "display_data"
    }
   ],
   "source": [
    "sim_dt=1.0 #fs\n",
    "diffCoef=.25\n",
    "simChemTime=.50 #ns\n",
    "snapRate=100\n",
    "nsteps=int(simChemTime*1E6/sim_dt)\n",
    "nSnaps=int(nsteps/snapRate)\n",
    "\n",
    "binEdges=np.linspace(-20,20,21)\n",
    "binCenters=(binEdges[:-1]+binEdges[1:])/2.\n",
    "window_sim_data=[np.zeros(nsteps)]*len(windowCenters)\n",
    "for iWin,windowCenter in enumerate(windowCenters): #[5:6]):\n",
    "    windowK=windowKvals[iWin]\n",
    "    bd_TestSim=Simple_1D_BD_Sim(window_potGradFuns[iWin])\n",
    "    bd_TestSim.set_parameters(dict(\n",
    "        diffusionConstant=diffCoef,\n",
    "        vmax=15.0,\n",
    "        trajectorySnapshotRate=snapRate,\n",
    "        verbose=True,\n",
    "        timestep=sim_dt\n",
    "    ))\n",
    "    bd_TestSim.set_x0(windowCenters[iWin])\n",
    "    #nsteps=int(2000000/sim_dt) #100000000\n",
    "    trajTestData\n",
    "    window_sim_data[iWin]=bd_TestSim.run_sim(\n",
    "        nsteps=nsteps,\n",
    "        giveVelocities=True,\n",
    "        pbar=tqdm.tqdm_notebook(total=nsteps))\n",
    "\n",
    "    trajTestData=window_sim_data[iWin]\n",
    "    kb=bd_TestSim.kb\n",
    "    dt=bd_TestSim.parameter_dict['timestep']\n",
    "    print(\n",
    "        '<v**2>/2={hvsq:.8f} at D={D:.3f} fs'.format(\n",
    "            D=bd_TestSim.parameter_dict['diffusionConstant'],\n",
    "            hvsq=np.mean((trajTestData['velocities']/dt)**2/2.))+ \\\n",
    "        '; <|v|>={v:.8f} at timestep={ts:.3f}'.format(\n",
    "            ts=bd_TestSim.parameter_dict['timestep'],\n",
    "            v=np.mean(np.abs(trajTestData['velocities'])/dt))+ \\\n",
    "        '; total steps = {nts:g} ({simtime:.4f} ns)'.format(\n",
    "            nts=nsteps, simtime=nsteps*bd_TestSim.parameter_dict['timestep']*1E-6\n",
    "        )\n",
    "    )\n",
    "    xgrid=binCenters\n",
    "    test_pmf_hist=np.histogram(\n",
    "        a=trajTestData['trajectory'],\n",
    "        bins=binEdges\n",
    "    )\n",
    "    test_pmf_vec=test_pmf_hist[0]\n",
    "    test_pmf_vec=test_pmf_vec/np.sum(test_pmf_vec)\n",
    "    test_pmf_vec=-kbT*np.log(test_pmf_vec/np.max(test_pmf_vec))\n",
    "    test_pmf_vec[np.where(np.isfinite(test_pmf_vec)==False)]\n",
    "    sns.lineplot(\n",
    "        x=xgrid,\n",
    "        y=test_pmf_vec,\n",
    "        #label='Raw X_Ind count PMF',\n",
    "        color='cyan'\n",
    "    )\n",
    "    plt.ylim(-.5,1.)\n",
    "    #plt.show()\n",
    "\n",
    "xgrid=binCenters#np.linspace(-30,30,101)\n",
    "sns.lineplot(\n",
    "    x=xgrid,\n",
    "    y=potFunTest(xgrid),\n",
    "    label='U(X) (kcal/mol)'\n",
    ")\n",
    "sns.lineplot(\n",
    "    x=xgrid,\n",
    "    y=potGradFunTest(xgrid),\n",
    "    label='grad(U(X)) (kcal/(mol*Å))'\n",
    ")\n",
    "plt.ylim(-.5,1.)\n",
    "plt.xlabel('X (Å)')\n",
    "plt.show()"
   ]
  },
  {
   "cell_type": "code",
   "execution_count": 11,
   "metadata": {},
   "outputs": [
    {
     "data": {
      "text/plain": [
       "{'trajectory': array([-15.        , -14.90975243, -11.86663961, ..., -11.05959742,\n",
       "        -19.13749886, -14.92260151]),\n",
       " 'velocities': array([-0.84200413, -0.37891729,  0.37231527, ..., -0.32506494,\n",
       "         0.28371528,  0.        ])}"
      ]
     },
     "execution_count": 11,
     "metadata": {},
     "output_type": "execute_result"
    }
   ],
   "source": [
    "window_sim_data[0]"
   ]
  },
  {
   "cell_type": "code",
   "execution_count": 34,
   "metadata": {},
   "outputs": [
    {
     "data": {
      "text/plain": [
       "<pymbar.mbar.MBAR at 0x7ffee6ed9ad0>"
      ]
     },
     "execution_count": 34,
     "metadata": {},
     "output_type": "execute_result"
    }
   ],
   "source": [
    "sim_N_0=[0] #used as an unperturbed reference\n",
    "\n",
    "sim_N_k=[\n",
    "    len(window_data_set['trajectory']) for window_data_set in window_sim_data\n",
    "]\n",
    "\n",
    "#we need to add on a '0' since we typically run a simulation with no restraining potential added\n",
    "#however, we need to have the unperturbed state as a place holder so we can tell mbar to make\n",
    "#the pmf for a system without any restraints\n",
    "sim_N_k=np.concatenate([\n",
    "    sim_N_0,\n",
    "    sim_N_k\n",
    "])\n",
    "\n",
    "sim_U_kn=np.array([\n",
    "    [\n",
    "        winFun(window_data_set['trajectory']) if len(window_data_set['trajectory'])>0  else np.zeros(\n",
    "        len(window_sim_data[0]['trajectory'])) \\\n",
    "        for iWin,window_data_set in enumerate(\n",
    "            np.concatenate([[{'trajectory':np.array([]),'velcocities':np.array([])}],window_sim_data])\n",
    "        )\n",
    "    ] for jWin,winFun in enumerate(\n",
    "        np.concatenate([[potFunTest],window_potFuns])\n",
    "    ) \n",
    "]) #this is a the potential energy of the i'th simulation if restraint energy for the j'th window were added\n",
    "#in order to generate this for an MD umbrella sampling data set, you need to use the restraint\n",
    "#setup information to compute what the restraint energy would be for each snapshot of the i'th\n",
    "#window if you replaced the restraint energy with the restraint setup for the j'th window\n",
    "#Note that we add in the original (no restraint) potential function as the first window potential\n",
    "#for MD this is equivalent to potential energy without the restraint contribution\n",
    "\n",
    "#notice that we still need an array of zeros to represent the unperturbed state\n",
    "#also note that if simulations have different numbers of snapshots, then all of them must be\n",
    "#padded with zeros to match the number of snapshots in the longest simulation\n",
    "\n",
    "#in the case of an MD simulation, you would need to build the window_potFuns based on the restraint setup\n",
    "#for each window. Here, we just use the potential functions directly, however, for an MD umbrella setup\n",
    "#you would have them compute just the restraint energy for the given window's restraint setup and then\n",
    "#add that to the unrestrained potential energy of that system (this can be extracted from .mdout files)\n",
    "\n",
    "\n",
    "#display(sim_N_k)\n",
    "#display(sim_U_kn)\n",
    "\n",
    "umbrella_mbar=pmb.mbar.MBAR(sim_U_kn,sim_N_k)\n",
    "umbrella_mbar"
   ]
  },
  {
   "cell_type": "code",
   "execution_count": 65,
   "metadata": {},
   "outputs": [
    {
     "data": {
      "text/plain": [
       "(array([0.00520392, 1.78515904, 1.72063958, 1.70629517, 1.65100115,\n",
       "        1.65219822, 1.71625463, 1.6454836 , 1.68015621, 1.71801462,\n",
       "        1.69005498, 1.79568209, 1.78194672, 1.87905249, 1.8355255 ,\n",
       "        1.93761057, 2.01463754, 2.02746988, 2.10099176, 2.06914925,\n",
       "        2.18283577, 2.23389752, 2.27828322, 2.35933756, 2.36655923,\n",
       "        2.44651758, 2.43819398, 2.31743602, 2.40878747, 2.39953049,\n",
       "        2.38001235, 2.37543939, 2.37472896, 2.34465142, 2.34744048,\n",
       "        2.39263021, 2.28839689, 2.21753923, 2.30281338, 2.21388512,\n",
       "        2.18726033, 2.0514946 , 2.07558893, 1.97830804, 1.97990812,\n",
       "        1.93171715, 1.87359446, 1.80350081, 1.80914944, 1.76246593,\n",
       "        1.73828619, 1.67722123, 1.62406765, 1.67151495, 1.57176648,\n",
       "        1.66681668, 1.69982175, 1.69869171, 1.73937215, 0.        ]),\n",
       " array([0.022517  , 0.04045351, 0.03964345, 0.03914092, 0.0384295 ,\n",
       "        0.03778356, 0.03899915, 0.0375574 , 0.0378529 , 0.03771334,\n",
       "        0.03727353, 0.03855339, 0.03801745, 0.03902938, 0.03794665,\n",
       "        0.03934493, 0.04005704, 0.03982196, 0.04084441, 0.03968077,\n",
       "        0.04158259, 0.04160169, 0.04255307, 0.04337241, 0.04321216,\n",
       "        0.04456072, 0.04421496, 0.04195106, 0.04351151, 0.04320008,\n",
       "        0.0428077 , 0.04293165, 0.04283424, 0.04243695, 0.04243649,\n",
       "        0.04397479, 0.04226591, 0.04129187, 0.04279053, 0.04148156,\n",
       "        0.04196239, 0.03986461, 0.04033404, 0.03911105, 0.03959649,\n",
       "        0.03915959, 0.03858302, 0.03735193, 0.03818182, 0.03767732,\n",
       "        0.03784477, 0.03685081, 0.03646382, 0.03758184, 0.03641815,\n",
       "        0.03747416, 0.03834924, 0.03839435, 0.03909365, 0.        ]))"
      ]
     },
     "execution_count": 65,
     "metadata": {},
     "output_type": "execute_result"
    }
   ],
   "source": [
    "pmf_bin_edges=np.linspace(-15,15,61)\n",
    "pmf_bin_centers=(pmf_bin_edges[:-1]+pmf_bin_edges[1:])/2.\n",
    "\n",
    "snaps=(np.concatenate([\n",
    "    window_data['trajectory'] for window_data in window_sim_data\n",
    "])).flatten() #we take the aggregate of all observed coordinates (collective variables when using MD sims)\n",
    "sim_u_n_0=potFunTest(snaps) #the potentials of each snapshot without restraint contributions\n",
    "sim_bin_n=np.apply_along_axis(\n",
    "    np.argmin,\n",
    "    axis=0,\n",
    "    arr=np.abs(snaps-np.atleast_2d(pmf_bin_centers).T)\n",
    ") #assigns each snapshot to the appropriate bin \n",
    "#e.g. returns the bin number that each snapshot would belong to\n",
    "\n",
    "pmf_data=umbrella_mbar.computePMF(sim_u_n_0,sim_bin_n,len(pmf_bin_centers))\n",
    "pmf_data"
   ]
  },
  {
   "cell_type": "code",
   "execution_count": 71,
   "metadata": {},
   "outputs": [
    {
     "data": {
      "image/png": "[encoded data removed]",
      "text/plain": [
       "<Figure size 432x288 with 1 Axes>"
      ]
     },
     "metadata": {
      "needs_background": "light"
     },
     "output_type": "display_data"
    }
   ],
   "source": [
    "sns.lineplot(\n",
    "    x=pmf_bin_centers[1:-1],\n",
    "    y=(pmf_data[0][1:-1]-np.min(pmf_data[0][1:-1]))*kbT\n",
    ")\n",
    "sns.lineplot(\n",
    "    x=pmf_bin_centers[1:-1],\n",
    "    y=potFunTest(pmf_bin_centers[1:-1]),\n",
    "    label='U(x)'\n",
    ")\n",
    "plt.show()"
   ]
  },
  {
   "cell_type": "code",
   "execution_count": null,
   "metadata": {},
   "outputs": [],
   "source": []
  }
 ],
 "metadata": {
  "kernelspec": {
   "display_name": "Python 3",
   "language": "python",
   "name": "python3"
  },
  "language_info": {
   "codemirror_mode": {
    "name": "ipython",
    "version": 3
   },
   "file_extension": ".py",
   "mimetype": "text/x-python",
   "name": "python",
   "nbconvert_exporter": "python",
   "pygments_lexer": "ipython3",
   "version": "3.7.5"
  }
 },
 "nbformat": 4,
 "nbformat_minor": 4
}
